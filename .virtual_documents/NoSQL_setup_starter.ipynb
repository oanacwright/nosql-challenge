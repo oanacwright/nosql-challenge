








# Import dependencies
from pymongo import MongoClient
from pprint import pprint


# Create an instance of MongoClient
mongo = MongoClient(port=27017)


# confirm that our new database was created
print(mongo.list_database_names())


# assign the uk_food database to a variable name
db = mongo['uk_food']


# review the collections in our new database
print(db.list_collection_names())


# review a document in the establishments collection
pprint(db.establishments.find_one())


# assign the collection to a variable
establishments = db['establishments']








# Create a dictionary for the new restaurant data
restaurant_data = {
    "BusinessName":"Penang Flavours",
    "BusinessType":"Restaurant/Cafe/Canteen",
    "BusinessTypeID":"",
    "AddressLine1":"Penang Flavours",
    "AddressLine2":"146A Plumstead Rd",
    "AddressLine3":"London",
    "AddressLine4":"",
    "PostCode":"SE18 7DY",
    "Phone":"",
    "LocalAuthorityCode":"511",
    "LocalAuthorityName":"Greenwich",
    "LocalAuthorityWebSite":"http://www.royalgreenwich.gov.uk",
    "LocalAuthorityEmailAddress":"health@royalgreenwich.gov.uk",
    "scores":{
        "Hygiene":"",
        "Structural":"",
        "ConfidenceInManagement":""
    },
    "SchemeType":"FHRS",
    "geocode":{
        "longitude":"0.08384000",
        "latitude":"51.49014200"
    },
    "RightToReply":"",
    "Distance":4623.9723280747176,
    "NewRatingPending":True
}


# Insert the new restaurant into the collection
establishments.insert_one(restaurant_data)


# Check that the new restaurant was inserted
query = {"BusinessName":"Penang Flavours"}
results = establishments.find(query)
for result in results:
    pprint(result)





# Find the BusinessTypeID for "Restaurant/Cafe/Canteen" and return only the BusinessTypeID and BusinessType fields
query = {'BusinessType': "Restaurant/Cafe/Canteen"}
fields = {'BusinessTypeID':1, 'BusinessType':1}

# Capture the results to a variable
results = establishments.find(query,fields)

# PrettyPrint the results
for result in results:
    pprint(result)





# Update the new restaurant with the correct BusinessTypeID
establishments.update_one( {"BusinessName":"Penang Flavours"}, { '$set': {'BusinessTypeID':'1'}}) 


# Confirm that the new restaurant was updated
query = {"BusinessName":"Penang Flavours"}
results = establishments.find(query)
for result in results:
    print(result['BusinessTypeID'])





# Find how many documents have LocalAuthorityName as "Dover"
query = {"LocalAuthorityName":"Dover"}
print(establishments.count_documents(query))


# Delete all documents where LocalAuthorityName is "Dover"
establishments.delete_many(query)


# Check if any remaining documents include Dover
query = {"LocalAuthorityName":"Dover"}
print(establishments.count_documents(query))


# Check that other documents remain with 'find_one'
pprint(db.establishments.find_one())








# Change the data type from String to Decimal for longitude and latitude
establishments.update_many({}, [ {'$set':{ 'geocode.longitude' : {'$toDouble': '$geocode.longitude'}}}])

establishments.update_many({}, [ {'$set':{ 'geocode.latitude' : {'$toDouble': '$geocode.latitude'}}}])
                   
pprint(db.establishments.find_one())    





# Set non 1-5 Rating Values to Null
non_ratings = ["AwaitingInspection", "Awaiting Inspection", "AwaitingPublication", "Pass", "Exempt"]
establishments.update_many({"RatingValue": {"$in": non_ratings}}, [ {'$set':{ "RatingValue" : None}} ])


# Change the data type from String to Integer for RatingValue
establishments.update_many({}, [ {'$set': { "RatingValue" : {'$toInt': "$RatingValue"}} } ])


# Check that the coordinates and rating value are now numbers
pprint(establishments.find_one({}, {'BusinessName': 1, 'RatingValue': 1, 'geocode': 1}))



