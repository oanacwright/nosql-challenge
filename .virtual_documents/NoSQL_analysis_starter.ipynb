





from pymongo import MongoClient
import pandas as pd
from pprint import pprint


# Create an instance of MongoClient
mongo = MongoClient(port=27017)


# assign the uk_food database to a variable name
db = mongo['uk_food']


# review the collections in our database
print(db.list_collection_names())


# assign the collection to a variable
establishments = db['establishments']








# Find the establishments with a hygiene score of 20
query = {'scores.Hygiene': 20}

# Use count_documents to display the number of documents in the result
print(f"\033[1;34mThere are {establishments.count_documents(query)} establishments with Hygiene score of 20.\033[0m")

# Display the first document in the results using pprint
results = establishments.find(query)
pprint(results[0])


# Convert the result to a Pandas DataFrame
results = establishments.find(query)
hygiene20_df = pd.DataFrame(list(results))

# Display the number of rows in the DataFrame
print(f"\033[1;34mRows in DataFrame: \033[0m", len(hygiene20_df))

# Display the first 10 rows of the DataFrame
hygiene20_df.head(10)





# Find the establishments with London as the Local Authority and has a RatingValue greater than or equal to 4.
query = {'AddressLine3': 'London', 'RatingValue': {'$gte': 4}}

# Use count_documents to display the number of documents in the result
print(f"\033[1;34mThere are {establishments.count_documents(query)} establishments in London with Rating >= 4.\033[0m")
# Display the first document in the results using pprint
results = establishments.find(query)
pprint(results[0])


# Convert the result to a Pandas DataFrame
results = establishments.find(query)
London_rating_gte4_df = pd.DataFrame(list(results))
# Display the number of rows in the DataFrame
print(f"\033[1;34mRows in DataFrame: \033[0m", len(London_rating_gte4_df))
# Display the first 10 rows of the DataFrame
London_rating_gte4_df.head(10)





# Search within 0.01 degree on either side of the latitude and longitude.
# Rating value must equal 5
# Sort by hygiene score

results = establishments.find({'BusinessName': "Penang Flavours"})
degree_search = 0.01
latitude = results[0]['geocode']['latitude']
longitude = results[0]['geocode']['longitude']

query = {'geocode.latitude': {'$gte': latitude-degree_search,'$lte': latitude+degree_search},
        'geocode.longitude': {'$gte': longitude-degree_search,'$lte': longitude+degree_search},
        'RatingValue': 5}
sort = {'scores.Hygiene': 1}
limit = 5

# Print the results
for result in establishments.find(query).sort(sort).limit(limit):
    pprint(result)


# Convert result to Pandas DataFrame
results = establishments.find(query).sort(sort).limit(limit)
Top5 = pd.DataFrame(list(results))
Top5.head()





# Create a pipeline that:
# 1. Matches establishments with a hygiene score of 0
match_query = {'$match': {'scores.Hygiene': 0}}

# 2. Groups the matches by Local Authority
group_query = {'$group': {'_id': {'LocalAuthorityName':'$LocalAuthorityName'},
                          'count': { '$sum': 1 }
                         }
              }
# 3. Sorts the matches from highest to lowest
sort_query = {'$sort': { 'count': -1 }}

# Print the number of documents in the result
pipeline = [match_query, group_query, sort_query]

results = list(establishments.aggregate(pipeline))
print(f"\033[1;34mThere are {len(results)} documents in the result.\033[0m")

# Print the first 10 results
pprint(results[0:10])


# Convert the result to a Pandas DataFrame
aggregated_df = pd.json_normalize(results)

# Display the number of rows in the DataFrame
print(f"\033[1;34mThere are {len(aggregated_df)} number of rows in the DataFrame\033[0m")

# Display the first 10 rows of the DataFrame
aggregated_df.head(10)



